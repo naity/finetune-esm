{
 "cells": [
  {
   "cell_type": "code",
   "execution_count": 1,
   "metadata": {},
   "outputs": [],
   "source": [
    "import numpy as np\n",
    "import pandas as pd\n",
    "from Bio import SeqIO\n",
    "\n",
    "from pathlib import Path\n",
    "from sklearn.preprocessing import MultiLabelBinarizer"
   ]
  },
  {
   "cell_type": "code",
   "execution_count": 2,
   "metadata": {},
   "outputs": [
    {
     "data": {
      "text/plain": [
       "[PosixPath('../data/cafa5/test_split.parquet'),\n",
       " PosixPath('../data/cafa5/train_bp_top500_seqs.parquet'),\n",
       " PosixPath('../data/cafa5/top100_test_split.parquet'),\n",
       " PosixPath('../data/cafa5/train_bp_top100_targets.npy'),\n",
       " PosixPath('../data/cafa5/top100_train_split.parquet'),\n",
       " PosixPath('../data/cafa5/train_bp_top100_entryids.npy'),\n",
       " PosixPath('../data/cafa5/train_bp_top100_terms.npy'),\n",
       " PosixPath('../data/cafa5/train_bp_top100_seqs.parquet'),\n",
       " PosixPath('../data/cafa5/train_bp_top500_targets.npy'),\n",
       " PosixPath('../data/cafa5/train_bp_top500_terms.npy'),\n",
       " PosixPath('../data/cafa5/cafa-5-protein-function-prediction'),\n",
       " PosixPath('../data/cafa5/train_split.parquet'),\n",
       " PosixPath('../data/cafa5/train_bp_top500_entryids.npy')]"
      ]
     },
     "execution_count": 2,
     "metadata": {},
     "output_type": "execute_result"
    }
   ],
   "source": [
    "data_path = Path(\"../data/cafa5\")\n",
    "list(data_path.iterdir())"
   ]
  },
  {
   "cell_type": "code",
   "execution_count": 3,
   "metadata": {},
   "outputs": [
    {
     "name": "stdout",
     "output_type": "stream",
     "text": [
      "(5363863, 3)\n"
     ]
    },
    {
     "data": {
      "text/html": [
       "<div>\n",
       "<style scoped>\n",
       "    .dataframe tbody tr th:only-of-type {\n",
       "        vertical-align: middle;\n",
       "    }\n",
       "\n",
       "    .dataframe tbody tr th {\n",
       "        vertical-align: top;\n",
       "    }\n",
       "\n",
       "    .dataframe thead th {\n",
       "        text-align: right;\n",
       "    }\n",
       "</style>\n",
       "<table border=\"1\" class=\"dataframe\">\n",
       "  <thead>\n",
       "    <tr style=\"text-align: right;\">\n",
       "      <th></th>\n",
       "      <th>EntryID</th>\n",
       "      <th>term</th>\n",
       "      <th>aspect</th>\n",
       "    </tr>\n",
       "  </thead>\n",
       "  <tbody>\n",
       "    <tr>\n",
       "      <th>0</th>\n",
       "      <td>A0A009IHW8</td>\n",
       "      <td>GO:0008152</td>\n",
       "      <td>BPO</td>\n",
       "    </tr>\n",
       "    <tr>\n",
       "      <th>1</th>\n",
       "      <td>A0A009IHW8</td>\n",
       "      <td>GO:0034655</td>\n",
       "      <td>BPO</td>\n",
       "    </tr>\n",
       "    <tr>\n",
       "      <th>2</th>\n",
       "      <td>A0A009IHW8</td>\n",
       "      <td>GO:0072523</td>\n",
       "      <td>BPO</td>\n",
       "    </tr>\n",
       "    <tr>\n",
       "      <th>3</th>\n",
       "      <td>A0A009IHW8</td>\n",
       "      <td>GO:0044270</td>\n",
       "      <td>BPO</td>\n",
       "    </tr>\n",
       "    <tr>\n",
       "      <th>4</th>\n",
       "      <td>A0A009IHW8</td>\n",
       "      <td>GO:0006753</td>\n",
       "      <td>BPO</td>\n",
       "    </tr>\n",
       "  </tbody>\n",
       "</table>\n",
       "</div>"
      ],
      "text/plain": [
       "      EntryID        term aspect\n",
       "0  A0A009IHW8  GO:0008152    BPO\n",
       "1  A0A009IHW8  GO:0034655    BPO\n",
       "2  A0A009IHW8  GO:0072523    BPO\n",
       "3  A0A009IHW8  GO:0044270    BPO\n",
       "4  A0A009IHW8  GO:0006753    BPO"
      ]
     },
     "execution_count": 3,
     "metadata": {},
     "output_type": "execute_result"
    }
   ],
   "source": [
    "train_df = pd.read_csv(\n",
    "    data_path / \"cafa-5-protein-function-prediction/Train/train_terms.tsv\", sep=\"\\t\"\n",
    ")\n",
    "print(train_df.shape)\n",
    "train_df.head()"
   ]
  },
  {
   "cell_type": "code",
   "execution_count": 4,
   "metadata": {},
   "outputs": [
    {
     "data": {
      "text/plain": [
       "aspect\n",
       "BPO    3497732\n",
       "CCO    1196017\n",
       "MFO     670114\n",
       "Name: count, dtype: int64"
      ]
     },
     "execution_count": 4,
     "metadata": {},
     "output_type": "execute_result"
    }
   ],
   "source": [
    "train_df[\"aspect\"].value_counts()"
   ]
  },
  {
   "cell_type": "code",
   "execution_count": 5,
   "metadata": {},
   "outputs": [
    {
     "data": {
      "text/plain": [
       "(3497732, 3)"
      ]
     },
     "execution_count": 5,
     "metadata": {},
     "output_type": "execute_result"
    }
   ],
   "source": [
    "# Biological Process only\n",
    "bp = train_df.loc[train_df[\"aspect\"] == \"BPO\"]\n",
    "bp.shape"
   ]
  },
  {
   "cell_type": "code",
   "execution_count": 6,
   "metadata": {},
   "outputs": [
    {
     "name": "stdout",
     "output_type": "stream",
     "text": [
      "Number of unique proteins: 92210\n",
      "Unique GO terms for BP: 21285\n"
     ]
    }
   ],
   "source": [
    "print(f\"Number of unique proteins: {len(bp['EntryID'].unique())}\")\n",
    "print(f\"Unique GO terms for BP: {len(bp['term'].unique())}\")"
   ]
  },
  {
   "cell_type": "code",
   "execution_count": 7,
   "metadata": {},
   "outputs": [
    {
     "data": {
      "text/plain": [
       "term\n",
       "GO:0008150    92210\n",
       "GO:0009987    61293\n",
       "GO:0065007    41457\n",
       "GO:0050789    39256\n",
       "GO:0050794    33888\n",
       "              ...  \n",
       "GO:0071231        1\n",
       "GO:1901233        1\n",
       "GO:0048034        1\n",
       "GO:0048033        1\n",
       "GO:0099083        1\n",
       "Name: EntryID, Length: 21285, dtype: int64"
      ]
     },
     "execution_count": 7,
     "metadata": {},
     "output_type": "execute_result"
    }
   ],
   "source": [
    "bp_term_counts = bp.groupby(\"term\")[\"EntryID\"].count().sort_values(ascending=False)\n",
    "bp_term_counts"
   ]
  },
  {
   "cell_type": "code",
   "execution_count": 8,
   "metadata": {},
   "outputs": [
    {
     "data": {
      "text/plain": [
       "['GO:0008150', 'GO:0009987', 'GO:0065007', 'GO:0050789', 'GO:0050794']"
      ]
     },
     "execution_count": 8,
     "metadata": {},
     "output_type": "execute_result"
    }
   ],
   "source": [
    "# take the most frequent terms\n",
    "top = 100\n",
    "top_terms = bp_term_counts[:top].index.tolist()\n",
    "top_terms[:5]"
   ]
  },
  {
   "cell_type": "code",
   "execution_count": 9,
   "metadata": {},
   "outputs": [
    {
     "data": {
      "text/plain": [
       "(1423484, 3)"
      ]
     },
     "execution_count": 9,
     "metadata": {},
     "output_type": "execute_result"
    }
   ],
   "source": [
    "# select entries based on top_terms\n",
    "bp_top = bp.loc[bp[\"term\"].isin(top_terms)]\n",
    "bp_top.shape"
   ]
  },
  {
   "cell_type": "code",
   "execution_count": 10,
   "metadata": {},
   "outputs": [
    {
     "data": {
      "text/plain": [
       "EntryID\n",
       "P02340    92\n",
       "P01137    91\n",
       "Q01705    88\n",
       "Q04887    88\n",
       "P06802    87\n",
       "          ..\n",
       "Q5MK87     1\n",
       "Q9VLC3     1\n",
       "Q9CXF3     1\n",
       "P24698     1\n",
       "Q9WV42     1\n",
       "Name: term, Length: 92210, dtype: int64"
      ]
     },
     "execution_count": 10,
     "metadata": {},
     "output_type": "execute_result"
    }
   ],
   "source": [
    "# # of labels per protein\n",
    "num_labels = bp_top.groupby(\"EntryID\")[\"term\"].count().sort_values(ascending=False)\n",
    "num_labels"
   ]
  },
  {
   "cell_type": "code",
   "execution_count": 11,
   "metadata": {},
   "outputs": [
    {
     "data": {
      "text/plain": [
       "15.43741459711528"
      ]
     },
     "execution_count": 11,
     "metadata": {},
     "output_type": "execute_result"
    }
   ],
   "source": [
    "num_labels.mean()"
   ]
  },
  {
   "cell_type": "code",
   "execution_count": 12,
   "metadata": {},
   "outputs": [
    {
     "data": {
      "text/plain": [
       "88652"
      ]
     },
     "execution_count": 12,
     "metadata": {},
     "output_type": "execute_result"
    }
   ],
   "source": [
    "(num_labels > 2).sum()"
   ]
  },
  {
   "cell_type": "code",
   "execution_count": 13,
   "metadata": {},
   "outputs": [
    {
     "data": {
      "text/plain": [
       "(1170659, 3)"
      ]
     },
     "execution_count": 13,
     "metadata": {},
     "output_type": "execute_result"
    }
   ],
   "source": [
    "# select proteins with at least a few terms\n",
    "bp_top = bp_top.loc[bp_top[\"EntryID\"].isin(num_labels[num_labels > 10].index.tolist())]\n",
    "bp_top.shape"
   ]
  },
  {
   "cell_type": "code",
   "execution_count": 14,
   "metadata": {},
   "outputs": [
    {
     "name": "stdout",
     "output_type": "stream",
     "text": [
      "Number of unique proteins after selection: 52593\n"
     ]
    }
   ],
   "source": [
    "print(f\"Number of unique proteins after selection: {len(bp_top['EntryID'].unique())}\")"
   ]
  },
  {
   "cell_type": "code",
   "execution_count": 15,
   "metadata": {},
   "outputs": [
    {
     "data": {
      "text/plain": [
       "EntryID\n",
       "A0A009IHW8    [GO:0008152, GO:0044237, GO:1901360, GO:000815...\n",
       "A0A021WW32    [GO:0048869, GO:0048856, GO:0065007, GO:000727...\n",
       "A0A023GPK8    [GO:0032502, GO:0050793, GO:0048856, GO:006500...\n",
       "A0A023GRW4    [GO:0009605, GO:0048869, GO:0048856, GO:000727...\n",
       "A0A023GU64    [GO:0048856, GO:0007275, GO:0009653, GO:000815...\n",
       "                                    ...                        \n",
       "X2JL73        [GO:0009605, GO:0050793, GO:0065008, GO:006500...\n",
       "X2KK07        [GO:0009605, GO:0065007, GO:0008150, GO:004222...\n",
       "X2KN52        [GO:0009605, GO:0065007, GO:0008150, GO:004222...\n",
       "X4YX01        [GO:0048869, GO:0051641, GO:0065007, GO:004885...\n",
       "X5M5N0        [GO:0009893, GO:0060255, GO:0065008, GO:000962...\n",
       "Name: term, Length: 52593, dtype: object"
      ]
     },
     "execution_count": 15,
     "metadata": {},
     "output_type": "execute_result"
    }
   ],
   "source": [
    "# generate a set of terms for each protein\n",
    "labels = bp_top.groupby(\"EntryID\")[\"term\"].apply(list)\n",
    "labels"
   ]
  },
  {
   "cell_type": "code",
   "execution_count": 16,
   "metadata": {},
   "outputs": [
    {
     "data": {
      "text/plain": [
       "(52593, 100)"
      ]
     },
     "execution_count": 16,
     "metadata": {},
     "output_type": "execute_result"
    }
   ],
   "source": [
    "# multi-label one-hot encoding targets\n",
    "mlb = MultiLabelBinarizer(classes=top_terms)\n",
    "\n",
    "targets = mlb.fit_transform(labels.tolist())\n",
    "targets.shape"
   ]
  },
  {
   "cell_type": "code",
   "execution_count": 17,
   "metadata": {},
   "outputs": [
    {
     "data": {
      "text/plain": [
       "array([1, 1, 0, 0, 0, 0, 1, 0, 0, 1, 0, 1, 1, 0, 1, 0, 0, 0, 0, 0, 0, 0,\n",
       "       0, 0, 0, 0, 0, 0, 1, 0, 0, 0, 0, 0, 0, 0, 0, 0, 1, 0, 1, 0, 0, 0,\n",
       "       1, 0, 0, 0, 1, 0, 0, 0, 0, 0, 0, 0, 0, 0, 0, 0, 0, 1, 0, 0, 0, 0,\n",
       "       0, 0, 0, 0, 0, 0, 0, 0, 0, 0, 0, 0, 0, 0, 0, 1, 0, 0, 0, 0, 0, 0,\n",
       "       0, 0, 0, 0, 0, 0, 0, 0, 1, 0, 0, 0])"
      ]
     },
     "execution_count": 17,
     "metadata": {},
     "output_type": "execute_result"
    }
   ],
   "source": [
    "targets[0]"
   ]
  },
  {
   "cell_type": "code",
   "execution_count": 18,
   "metadata": {},
   "outputs": [],
   "source": [
    "# save to files\n",
    "np.save(data_path / f\"train_bp_top{top}_targets.npy\", targets)\n",
    "np.save(data_path / f\"train_bp_top{top}_entryids.npy\", labels.index.to_numpy())\n",
    "np.save(data_path / f\"train_bp_top{top}_terms.npy\", np.array(top_terms))"
   ]
  },
  {
   "cell_type": "code",
   "execution_count": 19,
   "metadata": {},
   "outputs": [],
   "source": [
    "# sequence data\n",
    "entry_ids = []\n",
    "seqs = []\n",
    "bp_entry_ids = set(labels.index)\n",
    "\n",
    "for record in SeqIO.parse(\n",
    "    data_path / \"cafa-5-protein-function-prediction/Train/train_sequences.fasta\",\n",
    "    \"fasta\",\n",
    "):\n",
    "    if record.id in bp_entry_ids:\n",
    "        entry_ids.append(record.id)\n",
    "        seqs.append(str(record.seq))"
   ]
  },
  {
   "cell_type": "code",
   "execution_count": 20,
   "metadata": {},
   "outputs": [
    {
     "data": {
      "text/html": [
       "<div>\n",
       "<style scoped>\n",
       "    .dataframe tbody tr th:only-of-type {\n",
       "        vertical-align: middle;\n",
       "    }\n",
       "\n",
       "    .dataframe tbody tr th {\n",
       "        vertical-align: top;\n",
       "    }\n",
       "\n",
       "    .dataframe thead th {\n",
       "        text-align: right;\n",
       "    }\n",
       "</style>\n",
       "<table border=\"1\" class=\"dataframe\">\n",
       "  <thead>\n",
       "    <tr style=\"text-align: right;\">\n",
       "      <th></th>\n",
       "      <th>Sequence</th>\n",
       "    </tr>\n",
       "  </thead>\n",
       "  <tbody>\n",
       "    <tr>\n",
       "      <th>P20536</th>\n",
       "      <td>MNSVTVSHAPYTITYHDDWEPVMSQLVEFYNEVASWLLRDETSPIP...</td>\n",
       "    </tr>\n",
       "    <tr>\n",
       "      <th>O73864</th>\n",
       "      <td>MTEYRNFLLLFITSLSVIYPCTGISWLGLTINGSSVGWNQTHHCKL...</td>\n",
       "    </tr>\n",
       "    <tr>\n",
       "      <th>O95231</th>\n",
       "      <td>MRLSSSPPRGPQQLSSFGSVDWLSQSSCSGPTHTPRPADFSLGSLP...</td>\n",
       "    </tr>\n",
       "    <tr>\n",
       "      <th>A0A0B4J1F4</th>\n",
       "      <td>MGGEAGADGPRGRVKSLGLVFEDESKGCYSSGETVAGHVLLEAAEP...</td>\n",
       "    </tr>\n",
       "    <tr>\n",
       "      <th>P33681</th>\n",
       "      <td>MGHTRRQGTSPSKCPYLNFFQLLVLAGLSHFCSGVIHVTKEVKEVA...</td>\n",
       "    </tr>\n",
       "  </tbody>\n",
       "</table>\n",
       "</div>"
      ],
      "text/plain": [
       "                                                     Sequence\n",
       "P20536      MNSVTVSHAPYTITYHDDWEPVMSQLVEFYNEVASWLLRDETSPIP...\n",
       "O73864      MTEYRNFLLLFITSLSVIYPCTGISWLGLTINGSSVGWNQTHHCKL...\n",
       "O95231      MRLSSSPPRGPQQLSSFGSVDWLSQSSCSGPTHTPRPADFSLGSLP...\n",
       "A0A0B4J1F4  MGGEAGADGPRGRVKSLGLVFEDESKGCYSSGETVAGHVLLEAAEP...\n",
       "P33681      MGHTRRQGTSPSKCPYLNFFQLLVLAGLSHFCSGVIHVTKEVKEVA..."
      ]
     },
     "execution_count": 20,
     "metadata": {},
     "output_type": "execute_result"
    }
   ],
   "source": [
    "df = pd.DataFrame(seqs, index=entry_ids, columns=[\"Sequence\"])\n",
    "df.head()"
   ]
  },
  {
   "cell_type": "code",
   "execution_count": 21,
   "metadata": {},
   "outputs": [
    {
     "data": {
      "text/html": [
       "<div>\n",
       "<style scoped>\n",
       "    .dataframe tbody tr th:only-of-type {\n",
       "        vertical-align: middle;\n",
       "    }\n",
       "\n",
       "    .dataframe tbody tr th {\n",
       "        vertical-align: top;\n",
       "    }\n",
       "\n",
       "    .dataframe thead th {\n",
       "        text-align: right;\n",
       "    }\n",
       "</style>\n",
       "<table border=\"1\" class=\"dataframe\">\n",
       "  <thead>\n",
       "    <tr style=\"text-align: right;\">\n",
       "      <th></th>\n",
       "      <th>Entry ID</th>\n",
       "      <th>Sequence</th>\n",
       "      <th>Index</th>\n",
       "    </tr>\n",
       "  </thead>\n",
       "  <tbody>\n",
       "    <tr>\n",
       "      <th>0</th>\n",
       "      <td>A0A009IHW8</td>\n",
       "      <td>MSLEQKKGADIISKILQIQNSIGKTTSPSTLKTKLSEISRKEQENA...</td>\n",
       "      <td>0</td>\n",
       "    </tr>\n",
       "    <tr>\n",
       "      <th>1</th>\n",
       "      <td>A0A021WW32</td>\n",
       "      <td>MFYEHIILAKKGPLARIWLAAHWDKKITKAHVFETNIEKSVEGILQ...</td>\n",
       "      <td>1</td>\n",
       "    </tr>\n",
       "    <tr>\n",
       "      <th>2</th>\n",
       "      <td>A0A023GPK8</td>\n",
       "      <td>MSTIKLLIIGQLWLSIGLISGDDSLDTREGVDLVLKCRFTEHYDST...</td>\n",
       "      <td>2</td>\n",
       "    </tr>\n",
       "    <tr>\n",
       "      <th>3</th>\n",
       "      <td>A0A023GRW4</td>\n",
       "      <td>MMGSPGSQASAIATSVGIRSGRRGQAGGSLLLRLLAVTFVLAACHA...</td>\n",
       "      <td>3</td>\n",
       "    </tr>\n",
       "    <tr>\n",
       "      <th>4</th>\n",
       "      <td>A0A023GU64</td>\n",
       "      <td>MDYTRTHRAEAMHSCLSRMRFRCFFLMLSFFCEAAAFNLDLEKPTV...</td>\n",
       "      <td>4</td>\n",
       "    </tr>\n",
       "    <tr>\n",
       "      <th>...</th>\n",
       "      <td>...</td>\n",
       "      <td>...</td>\n",
       "      <td>...</td>\n",
       "    </tr>\n",
       "    <tr>\n",
       "      <th>52588</th>\n",
       "      <td>X2JL73</td>\n",
       "      <td>MASQHSSWRFGKRSKLQLRIKVSQDPEDFYRLDPQRSAAENAFEIY...</td>\n",
       "      <td>52588</td>\n",
       "    </tr>\n",
       "    <tr>\n",
       "      <th>52589</th>\n",
       "      <td>X2KK07</td>\n",
       "      <td>MAQWEKLRQLDSVYLTQVDELYDGDAFPMDVRHYLAHWIEGQDWDR...</td>\n",
       "      <td>52589</td>\n",
       "    </tr>\n",
       "    <tr>\n",
       "      <th>52590</th>\n",
       "      <td>X2KN52</td>\n",
       "      <td>MAQWEKLRQLDSVYLTQVDELYDGDAFPMDVRHYLAHWIEGQDWDR...</td>\n",
       "      <td>52590</td>\n",
       "    </tr>\n",
       "    <tr>\n",
       "      <th>52591</th>\n",
       "      <td>X4YX01</td>\n",
       "      <td>MEQDAAAGPAKKSGTTLSVDRAAFLLLRVRKVFKKKRQQRKERQAQ...</td>\n",
       "      <td>52591</td>\n",
       "    </tr>\n",
       "    <tr>\n",
       "      <th>52592</th>\n",
       "      <td>X5M5N0</td>\n",
       "      <td>MPDSITNGGRPPAPPSSVSSTTASTTGNFGTRRRLVNRIKKVDELH...</td>\n",
       "      <td>52592</td>\n",
       "    </tr>\n",
       "  </tbody>\n",
       "</table>\n",
       "<p>52593 rows × 3 columns</p>\n",
       "</div>"
      ],
      "text/plain": [
       "         Entry ID                                           Sequence  Index\n",
       "0      A0A009IHW8  MSLEQKKGADIISKILQIQNSIGKTTSPSTLKTKLSEISRKEQENA...      0\n",
       "1      A0A021WW32  MFYEHIILAKKGPLARIWLAAHWDKKITKAHVFETNIEKSVEGILQ...      1\n",
       "2      A0A023GPK8  MSTIKLLIIGQLWLSIGLISGDDSLDTREGVDLVLKCRFTEHYDST...      2\n",
       "3      A0A023GRW4  MMGSPGSQASAIATSVGIRSGRRGQAGGSLLLRLLAVTFVLAACHA...      3\n",
       "4      A0A023GU64  MDYTRTHRAEAMHSCLSRMRFRCFFLMLSFFCEAAAFNLDLEKPTV...      4\n",
       "...           ...                                                ...    ...\n",
       "52588      X2JL73  MASQHSSWRFGKRSKLQLRIKVSQDPEDFYRLDPQRSAAENAFEIY...  52588\n",
       "52589      X2KK07  MAQWEKLRQLDSVYLTQVDELYDGDAFPMDVRHYLAHWIEGQDWDR...  52589\n",
       "52590      X2KN52  MAQWEKLRQLDSVYLTQVDELYDGDAFPMDVRHYLAHWIEGQDWDR...  52590\n",
       "52591      X4YX01  MEQDAAAGPAKKSGTTLSVDRAAFLLLRVRKVFKKKRQQRKERQAQ...  52591\n",
       "52592      X5M5N0  MPDSITNGGRPPAPPSSVSSTTASTTGNFGTRRRLVNRIKKVDELH...  52592\n",
       "\n",
       "[52593 rows x 3 columns]"
      ]
     },
     "execution_count": 21,
     "metadata": {},
     "output_type": "execute_result"
    }
   ],
   "source": [
    "# ensure the same order as targets\n",
    "df = df.loc[labels.index.tolist()]\n",
    "df.reset_index(names=\"Entry ID\", inplace=True)\n",
    "df[\"Index\"] = df.index.values\n",
    "df"
   ]
  },
  {
   "cell_type": "code",
   "execution_count": 22,
   "metadata": {},
   "outputs": [],
   "source": [
    "from sklearn.model_selection import train_test_split"
   ]
  },
  {
   "cell_type": "code",
   "execution_count": 23,
   "metadata": {},
   "outputs": [],
   "source": [
    "# create a holdout test set\n",
    "test_size = 0.2\n",
    "train_df, test_df = train_test_split(df, test_size=test_size, random_state=0)"
   ]
  },
  {
   "cell_type": "code",
   "execution_count": 24,
   "metadata": {},
   "outputs": [],
   "source": [
    "df.to_parquet(data_path / f\"train_bp_top{top}_seqs.parquet\")\n",
    "train_df.to_parquet(data_path / f\"top{top}_train_split.parquet\")\n",
    "test_df.to_parquet(data_path / f\"top{top}_test_split.parquet\")"
   ]
  },
  {
   "cell_type": "code",
   "execution_count": null,
   "metadata": {},
   "outputs": [],
   "source": []
  }
 ],
 "metadata": {
  "kernelspec": {
   "display_name": "ml",
   "language": "python",
   "name": "python3"
  },
  "language_info": {
   "codemirror_mode": {
    "name": "ipython",
    "version": 3
   },
   "file_extension": ".py",
   "mimetype": "text/x-python",
   "name": "python",
   "nbconvert_exporter": "python",
   "pygments_lexer": "ipython3",
   "version": "3.10.13"
  }
 },
 "nbformat": 4,
 "nbformat_minor": 2
}
